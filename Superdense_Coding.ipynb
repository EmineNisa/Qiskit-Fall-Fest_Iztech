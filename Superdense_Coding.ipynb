{
 "cells": [
  {
   "cell_type": "markdown",
   "id": "89a7ba25",
   "metadata": {},
   "source": [
    "<table width=\"100%\"><tr><td style=\"color:#bbbbbb;background-color:#ffffff;font-size:11px;font-style:italic;text-align:right;\">This cell contains some macros. If there is a problem with displaying mathematical formulas, please run this cell to load these macros. </td></tr></table>\n",
    "$ \\newcommand{\\bra}[1]{\\langle #1|} $\n",
    "$ \\newcommand{\\ket}[1]{|#1\\rangle} $\n",
    "$ \\newcommand{\\braket}[2]{\\langle #1|#2\\rangle} $\n",
    "$ \\newcommand{\\dot}[2]{ #1 \\cdot #2} $\n",
    "$ \\newcommand{\\biginner}[2]{\\left\\langle #1,#2\\right\\rangle} $\n",
    "$ \\newcommand{\\mymatrix}[2]{\\left( \\begin{array}{#1} #2\\end{array} \\right)} $\n",
    "$ \\newcommand{\\myvector}[1]{\\mymatrix{c}{#1}} $\n",
    "$ \\newcommand{\\myrvector}[1]{\\mymatrix{r}{#1}} $\n",
    "$ \\newcommand{\\mypar}[1]{\\left( #1 \\right)} $\n",
    "$ \\newcommand{\\mybigpar}[1]{ \\Big( #1 \\Big)} $\n",
    "$ \\newcommand{\\sqrttwo}{\\frac{1}{\\sqrt{2}}} $\n",
    "$ \\newcommand{\\dsqrttwo}{\\dfrac{1}{\\sqrt{2}}} $\n",
    "$ \\newcommand{\\onehalf}{\\frac{1}{2}} $\n",
    "$ \\newcommand{\\donehalf}{\\dfrac{1}{2}} $\n",
    "$ \\newcommand{\\hadamard}{ \\mymatrix{rr}{ \\sqrttwo & \\sqrttwo \\\\ \\sqrttwo & -\\sqrttwo }} $\n",
    "$ \\newcommand{\\vzero}{\\myvector{1\\\\0}} $\n",
    "$ \\newcommand{\\vone}{\\myvector{0\\\\1}} $\n",
    "$ \\newcommand{\\vhadamardzero}{\\myvector{ \\sqrttwo \\\\  \\sqrttwo } } $\n",
    "$ \\newcommand{\\vhadamardone}{ \\myrvector{ \\sqrttwo \\\\ -\\sqrttwo } } $\n",
    "$ \\newcommand{\\myarray}[2]{ \\begin{array}{#1}#2\\end{array}} $\n",
    "$ \\newcommand{\\X}{ \\mymatrix{cc}{0 & 1 \\\\ 1 & 0}  } $\n",
    "$ \\newcommand{\\Z}{ \\mymatrix{rr}{1 & 0 \\\\ 0 & -1}  } $\n",
    "$ \\newcommand{\\Htwo}{ \\mymatrix{rrrr}{ \\frac{1}{2} & \\frac{1}{2} & \\frac{1}{2} & \\frac{1}{2} \\\\ \\frac{1}{2} & -\\frac{1}{2} & \\frac{1}{2} & -\\frac{1}{2} \\\\ \\frac{1}{2} & \\frac{1}{2} & -\\frac{1}{2} & -\\frac{1}{2} \\\\ \\frac{1}{2} & -\\frac{1}{2} & -\\frac{1}{2} & \\frac{1}{2} } } $\n",
    "$ \\newcommand{\\CNOT}{ \\mymatrix{cccc}{1 & 0 & 0 & 0 \\\\ 0 & 1 & 0 & 0 \\\\ 0 & 0 & 0 & 1 \\\\ 0 & 0 & 1 & 0} } $\n",
    "$ \\newcommand{\\norm}[1]{ \\left\\lVert #1 \\right\\rVert } $\n",
    "$ \\newcommand{\\blackbit}[1] {\\mathbf{{\\color{black}#1}}} $\n",
    "$ \\newcommand{\\bluebit}[1] {\\mathbf{{\\color{blue}#1}}} $"
   ]
  },
  {
   "cell_type": "markdown",
   "id": "81e309e0",
   "metadata": {},
   "source": [
    "## Dolaşıklık"
   ]
  },
  {
   "cell_type": "markdown",
   "id": "52614ef7",
   "metadata": {},
   "source": [
    "Başlangıçta ikisi de $ \\ket{0} $ durumunda olan iki kubit var."
   ]
  },
  {
   "cell_type": "markdown",
   "id": "ec42b966",
   "metadata": {},
   "source": [
    "1. kubite Hadamard uyguluyoruz. \n",
    "\n",
    "$ \\vhadamardzero \\otimes \\vzero = \\myvector{ \\frac{1}{\\sqrt{2}} \\\\ 0 \\\\ \\frac{1}{\\sqrt{2}} \\\\ 0 }  $.\n"
   ]
  },
  {
   "cell_type": "markdown",
   "id": "b03e907f",
   "metadata": {},
   "source": [
    "1. kubit kontrol, 2. kubit hedef olmak üzere CNOT uyguluyoruz.\n",
    "\n",
    "$ \\CNOT \\myvector{ \\frac{1}{\\sqrt{2}} \\\\ 0 \\\\ \\frac{1}{\\sqrt{2}} \\\\ 0 }  = \\myvector{ \\frac{1}{\\sqrt{2}} \\\\ 0 \\\\0 \\\\ \\frac{1}{\\sqrt{2}} } = \\frac{1}{\\sqrt{2}}\\ket{00} + \\frac{1}{\\sqrt{2}}\\ket{11}  $.\n",
    "\n",
    "Sistem ölçüldüğünde ya $ \\ket{00} $ ya da $ \\ket{11} $ durumunda gözlemlenecektir. \n",
    "\n",
    "1.kubit ölçüldüğünde $ \\ket{0} $ durumu gözlemlenirse, 2. kubit de $ \\ket{0} $ durumuna çöker.\n",
    "\n",
    "1.kubit ölçüldüğünde $ \\ket{1} $ durumu gözlemlenirse, 2. kubit de $ \\ket{1} $ durumuna çöker."
   ]
  },
  {
   "cell_type": "markdown",
   "id": "fe9e5e50",
   "metadata": {},
   "source": [
    "Dolaşık kubitler, $\\ket{u} \\otimes \\ket{v}$ şeklinde ifade edilemezler."
   ]
  },
  {
   "cell_type": "markdown",
   "id": "35dc6857",
   "metadata": {},
   "source": [
    "<h3> Görev 1 </h3>\n",
    "\n",
    "CNOT operatöründen önceki durum $ \\sqrttwo \\big( a\\ket{000} + a \\ket{011} + b\\ket{100} + b \\ket{111} \\big) $ ise\n",
    "\n",
    "verilen kuantum durumunun CNOT operatöründen (2. kubit kontrol 3. kubit hedef olmak üzere) sonraki yeni kuantum durumunu hesaplayın."
   ]
  },
  {
   "cell_type": "markdown",
   "id": "184fc65d",
   "metadata": {},
   "source": [
    "### Görev 2\n",
    "\n",
    "$\\frac{1}{\\sqrt{2}}\\ket{00} + \\frac{1}{\\sqrt{2}}\\ket{11}  $ durumundaki sistemde 1. kubite NOT uygulayın. Hangi durumu elde edersiniz, elde ettiğiniz durum dolaşık mıdır?"
   ]
  },
  {
   "cell_type": "markdown",
   "id": "5c3b42f7",
   "metadata": {},
   "source": [
    "### Görev 3\n",
    "\n",
    "$\\frac{1}{\\sqrt{2}}\\ket{00} + \\frac{1}{\\sqrt{2}}\\ket{11}  $ durumundaki sistemde 1. kubite Z uygulayın. Hangi durumu elde edersiniz, elde ettiğiniz durum dolaşık mıdır?"
   ]
  },
  {
   "cell_type": "markdown",
   "id": "8d672d3a",
   "metadata": {},
   "source": [
    "### Görev 4\n",
    "\n",
    "$\\frac{1}{\\sqrt{2}}\\ket{00} + \\frac{1}{\\sqrt{2}}\\ket{11}  $ durumundaki sistemde 1. kubite NOT ve Z uygulayın. Hangi durumu elde edersiniz, elde ettiğiniz durum dolaşık mıdır?"
   ]
  },
  {
   "cell_type": "markdown",
   "id": "a7b9f325",
   "metadata": {},
   "source": [
    "### Görev 5\n",
    "\n",
    "$\\frac{1}{\\sqrt{2}}\\ket{01} + \\frac{1}{\\sqrt{2}}\\ket{10}  $ durumunu elde etmek için gereken devreyi gerçekleştiriniz. Ölçüm sonucunda eşit sayıda 01 ve 10 görmeniz gerekiyor."
   ]
  },
  {
   "cell_type": "code",
   "execution_count": null,
   "id": "815daebe",
   "metadata": {},
   "outputs": [],
   "source": [
    "from qiskit import QuantumRegister, ClassicalRegister, QuantumCircuit\n",
    "from qiskit import execute, Aer\n",
    "\n",
    "\n",
    "#Your code here\n",
    "\n",
    "\n",
    "job = execute(mycircuit,Aer.get_backend('qasm_simulator'),shots=1024)\n",
    "\n",
    "counts = job.result().get_counts(mycircuit)\n",
    "print(counts) "
   ]
  },
  {
   "cell_type": "markdown",
   "id": "d54dd24d",
   "metadata": {},
   "source": [
    "### Görev 6\n",
    "\n",
    "$\\frac{1}{\\sqrt{2}}\\ket{000} + \\frac{1}{\\sqrt{2}}\\ket{111}  $ durumunu elde etmek için gereken devreyi gerçekleştiriniz. Ölçüm sonucunda eşit sayıda 000 ve 111 görmeniz gerekiyor."
   ]
  },
  {
   "cell_type": "code",
   "execution_count": 1,
   "id": "33364d64",
   "metadata": {},
   "outputs": [
    {
     "ename": "NameError",
     "evalue": "name 'mycircuit' is not defined",
     "output_type": "error",
     "traceback": [
      "\u001b[1;31m---------------------------------------------------------------------------\u001b[0m",
      "\u001b[1;31mNameError\u001b[0m                                 Traceback (most recent call last)",
      "\u001b[1;32m<ipython-input-1-a39190763ad6>\u001b[0m in \u001b[0;36m<module>\u001b[1;34m\u001b[0m\n\u001b[0;32m      6\u001b[0m \u001b[1;33m\u001b[0m\u001b[0m\n\u001b[0;32m      7\u001b[0m \u001b[1;33m\u001b[0m\u001b[0m\n\u001b[1;32m----> 8\u001b[1;33m \u001b[0mjob\u001b[0m \u001b[1;33m=\u001b[0m \u001b[0mexecute\u001b[0m\u001b[1;33m(\u001b[0m\u001b[0mmycircuit\u001b[0m\u001b[1;33m,\u001b[0m\u001b[0mAer\u001b[0m\u001b[1;33m.\u001b[0m\u001b[0mget_backend\u001b[0m\u001b[1;33m(\u001b[0m\u001b[1;34m'qasm_simulator'\u001b[0m\u001b[1;33m)\u001b[0m\u001b[1;33m,\u001b[0m\u001b[0mshots\u001b[0m\u001b[1;33m=\u001b[0m\u001b[1;36m1024\u001b[0m\u001b[1;33m)\u001b[0m\u001b[1;33m\u001b[0m\u001b[1;33m\u001b[0m\u001b[0m\n\u001b[0m\u001b[0;32m      9\u001b[0m \u001b[1;33m\u001b[0m\u001b[0m\n\u001b[0;32m     10\u001b[0m \u001b[0mcounts\u001b[0m \u001b[1;33m=\u001b[0m \u001b[0mjob\u001b[0m\u001b[1;33m.\u001b[0m\u001b[0mresult\u001b[0m\u001b[1;33m(\u001b[0m\u001b[1;33m)\u001b[0m\u001b[1;33m.\u001b[0m\u001b[0mget_counts\u001b[0m\u001b[1;33m(\u001b[0m\u001b[0mmycircuit\u001b[0m\u001b[1;33m)\u001b[0m\u001b[1;33m\u001b[0m\u001b[1;33m\u001b[0m\u001b[0m\n",
      "\u001b[1;31mNameError\u001b[0m: name 'mycircuit' is not defined"
     ]
    }
   ],
   "source": [
    "from qiskit import QuantumRegister, ClassicalRegister, QuantumCircuit\n",
    "from qiskit import execute, Aer\n",
    "\n",
    "\n",
    "#Your code here\n",
    "\n",
    "\n",
    "job = execute(mycircuit,Aer.get_backend('qasm_simulator'),shots=1024)\n",
    "\n",
    "counts = job.result().get_counts(mycircuit)\n",
    "print(counts) "
   ]
  },
  {
   "cell_type": "markdown",
   "id": "0b653b61",
   "metadata": {},
   "source": [
    "## Yoğun kodlama"
   ]
  },
  {
   "cell_type": "markdown",
   "id": "f06de66e",
   "metadata": {},
   "source": [
    "Ayşe ile Bora bir dolanık kübit çiftine sahipse, Ayşe Bora'ya (ya da Bora Ayşe'ye) tek bir kubit ile 2 bitlik bilgi gönderebilir."
   ]
  },
  {
   "cell_type": "markdown",
   "id": "0f37b009",
   "metadata": {},
   "source": [
    "Öncelikle Ayşe ve Bora'nın kubitini dolanık hale getiriyoruz.\n",
    "\n",
    "- Ayşe'nin kubitine Hadamard,\n",
    "- Ayşe'nin kubiti kontrol, Bora'nın hedef olmak üzere CNOT\n",
    "\n",
    "uyguluyoruz."
   ]
  },
  {
   "cell_type": "markdown",
   "id": "27c72403",
   "metadata": {},
   "source": [
    "Ayşe 2 bitlik $ (x,y) $ bilgisini Bora'ya göndermek istiyor:  $ (0,0), (0,1), (1,0),\\mbox{ or } (1,1) $. \n",
    "\n",
    "- $x$ 1 ise, Ayşe kendi kubitine $Z$ kapısı uyguluyor.\n",
    "\n",
    "- $y$ 1 ise, Ayşe kendi kubitine $X$ kapısı uyguluyor.\n",
    "\n",
    "Ayşe kubitini Bora'ya gönderiyor.\n",
    "\n",
    "$$\n",
    "\\begin{matrix}\n",
    " xy & Operation & Result \\\\ \n",
    " -----------&-----------&----------- \\\\\n",
    " {00} & - & \\sqrttwo\\ket{00} + \\sqrttwo\\ket{11} \\\\ \n",
    " {01} & X & \\sqrttwo\\ket{10} + \\sqrttwo\\ket{01} \\\\  \n",
    " {10} & Z & \\sqrttwo\\ket{00} - \\sqrttwo\\ket{11} \\\\  \n",
    " {11} & XZ & \\sqrttwo\\ket{10} - \\sqrttwo\\ket{01}    \n",
    "\\end{matrix}\n",
    "$$"
   ]
  },
  {
   "cell_type": "markdown",
   "id": "612e1929",
   "metadata": {},
   "source": [
    "- Bora önce CNOT (Ayşe'nin kubiti kontrol, Bora'nın kubiti hedef kubit)\n",
    "\n",
    "- Sonra Ayşe'nin gönderdiği kubiti Hadamard uyguluyor.\n",
    "\n",
    "- 2 kubiti birden ölçüyor."
   ]
  },
  {
   "cell_type": "markdown",
   "id": "7fb05738",
   "metadata": {},
   "source": [
    "<h3> Görev 7</h3>\n",
    "\n",
    "Ayşe'nin göndermek istediği mesajın 10 olduğunu varsayarak yukarıdaki protokolü gerçekleştirin."
   ]
  },
  {
   "cell_type": "code",
   "execution_count": null,
   "id": "c58913dd",
   "metadata": {},
   "outputs": [],
   "source": [
    "# import all necessary objects and methods for quantum circuits\n",
    "from qiskit import QuantumRegister, ClassicalRegister, QuantumCircuit, execute, Aer\n",
    "\n",
    "\n",
    "#\n",
    "# your code is here\n",
    "#\n"
   ]
  }
 ],
 "metadata": {
  "kernelspec": {
   "display_name": "Python 3",
   "language": "python",
   "name": "python3"
  },
  "language_info": {
   "codemirror_mode": {
    "name": "ipython",
    "version": 3
   },
   "file_extension": ".py",
   "mimetype": "text/x-python",
   "name": "python",
   "nbconvert_exporter": "python",
   "pygments_lexer": "ipython3",
   "version": "3.7.3"
  }
 },
 "nbformat": 4,
 "nbformat_minor": 5
}
